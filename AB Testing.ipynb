{
 "cells": [
  {
   "cell_type": "markdown",
   "metadata": {},
   "source": [
    "### **DATA CLEANING**"
   ]
  },
  {
   "cell_type": "code",
   "execution_count": 1,
   "metadata": {},
   "outputs": [],
   "source": [
    "import pandas as pd \n",
    "import sqlalchemy\n",
    "\n",
    "\n",
    "# Using raw string since the server name contain this '\\' esape character\n",
    "connection_data = conn_str = (\n",
    "    r'DRIVER={SQL Server};'\n",
    "    r'SERVER=KRISHNA\\SQLEXPRESS;'\n",
    "    r'DATABASE=MarketingCampaignDB;'\n",
    "    r'Trusted_Connection=yes;'\n",
    ")\n",
    "\n",
    "# Creating an connection engine to the database stored on my server\n",
    "connection = sqlalchemy.create_engine(f'mssql+pyodbc:///?odbc_connect={conn_str}').connect()\n",
    "query = 'SELECT * FROM Marketing_AB'\n",
    "# Reading all the data from the table into dataframe\n",
    "df = pd.read_sql(query,connection)"
   ]
  },
  {
   "cell_type": "code",
   "execution_count": 2,
   "metadata": {},
   "outputs": [],
   "source": [
    "def wrangle(df):\n",
    "    \"\"\"\n",
    "    This function will remove the outliers from the dataframe using the interquaritle range method.\n",
    "\n",
    "    Arguments:\n",
    "    df : Pandas DataFrame\n",
    "        The input dataframe to be cleaned.\n",
    "    \n",
    "    Returns:\n",
    "    cleaned_df : Pandas DataFrame\n",
    "        The dataframe with outliers removed.\n",
    "    \"\"\"\n",
    "    quartile_1st = df['total_ads'].quantile(0.25)\n",
    "    quartile_3rd = df['total_ads'].quantile(0.75)\n",
    "    iqr = quartile_3rd - quartile_1st\n",
    "    upper_whisker = quartile_3rd + 3 * iqr\n",
    "    lower_whisker = quartile_1st - 3 * iqr\n",
    "\n",
    "    # Removing the outliers from the dataframe\n",
    "    cleaned_df = df[(df['total_ads'] >= lower_whisker) & (df['total_ads'] <= upper_whisker)]\n",
    "    return cleaned_df"
   ]
  },
  {
   "cell_type": "code",
   "execution_count": 3,
   "metadata": {},
   "outputs": [
    {
     "data": {
      "text/plain": [
       "-1"
      ]
     },
     "execution_count": 3,
     "metadata": {},
     "output_type": "execute_result"
    }
   ],
   "source": [
    "# Calling the function with orignal dataset as input and saving it on server for future uses\n",
    "cleaned_df = wrangle(df)\n",
    "cleaned_df.to_sql('Cleaned_Marketing_AB', con=connection, if_exists='replace', index=False)"
   ]
  },
  {
   "cell_type": "markdown",
   "metadata": {},
   "source": [
    "### **A/B TESTING**"
   ]
  },
  {
   "cell_type": "code",
   "execution_count": 4,
   "metadata": {},
   "outputs": [],
   "source": [
    "def calculate_conversion_statistics(ad_group, psa_group):\n",
    "    \"\"\"\n",
    "    This function will calculate the total conversions, conversion rates, p-value, \n",
    "    z-statistics for the proportion of two groups, and confidence interval for the \n",
    "    difference between the conversion rates of two groups.\n",
    "\n",
    "    Arguments:\n",
    "    ad_group : Pandas DataFrame\n",
    "        The first group (e.g., 'ad').\n",
    "    psa_group : Pandas DataFrame\n",
    "        The second group (e.g., 'psa').\n",
    "\n",
    "    Returns:\n",
    "    stats : Pandas Dataframe\n",
    "        Dataframe containing the calculated statistics.\n",
    "    \"\"\"\n",
    "\n",
    "    # Importing libraries here to avoid redundancy and ensure they are available for local use\n",
    "    from scipy.stats import norm\n",
    "    import pandas as pd\n",
    "\n",
    "\n",
    "\n",
    "    # Devising Hypothesis\n",
    "    null_hypothesis = 'There is no real significant difference in the conversion rates of ad and psa group suggesting both perform similar in converting the users'\n",
    "    alternative_hypothesis = 'There is a significant difference in the conversion rates of ad and psa group suggesting one performs better in converting the users'\n",
    "    \n",
    "    # Sample size of each group\n",
    "    ad_n = len(ad_group)\n",
    "    psa_n = len(psa_group)\n",
    "    \n",
    "    # Since conversion column contain bool values we are using sum methods\n",
    "    ad_total_conversions = ad_group['converted'].sum()\n",
    "    psa_total_conversions = psa_group['converted'].sum()\n",
    "\n",
    "    # Calculating Conversion rates using mean method due to values being bool \n",
    "    ad_conversion_rate = ad_group['converted'].mean()\n",
    "    psa_conversion_rate = psa_group['converted'].mean()\n",
    "\n",
    "    # Pooled conversion rate\n",
    "    pooled_conversion_rate = (ad_total_conversions + psa_total_conversions) / (ad_n + psa_n)\n",
    "\n",
    "    # Calculating Standard error for the difference in conversion rate of both group\n",
    "    se = (pooled_conversion_rate * (1 - pooled_conversion_rate) * (1/ad_n + 1/psa_n)) ** 0.5\n",
    "\n",
    "    # # Calculating the z-statistic to check how far the difference in conversion rates \n",
    "    # is from zero (null hypothesis) in terms of standard errors  \n",
    "    # A Z statistic > 1.96  means a greater evidence to reject the null hypothesis than to accept it\n",
    "    z_statistic = (ad_conversion_rate - psa_conversion_rate) / se\n",
    "\n",
    "    # Calculateing the P-value to check the likelihood of observing the difference in conversion rates\n",
    "    # under the assumption that there is no real difference (null hypothesis) \n",
    "    # if p-value is below 0.05 we can reject the null hypothesis that there is no real difference betweenw\n",
    "    # the two groups\n",
    "    p_value = 2 * (1 - norm.cdf(abs(z_statistic)))\n",
    "\n",
    "    # 95% Confidence interval for the difference in conversion rates  \n",
    "    # This gives the range in which the true difference is likely to fall  \n",
    "    # with 95% confidence, meaning that in 100 similar tests, the true difference would fall in this range 95 times  \n",
    "    margin_of_error = norm.ppf(0.975) * se\n",
    "    confidence_interval = (\n",
    "        (ad_conversion_rate - psa_conversion_rate) - margin_of_error, # Lower\n",
    "        (ad_conversion_rate - psa_conversion_rate) + margin_of_error  # Upper\n",
    "    )\n",
    "\n",
    "    stats = pd.DataFrame({\n",
    "        'group': ['ad', 'psa'],\n",
    "        'participants': [ad_n, psa_n],\n",
    "        'total_conversions': [ad_total_conversions, psa_total_conversions],\n",
    "        'conversion_rate': [ad_conversion_rate, psa_conversion_rate],\n",
    "        'z_statistic': [z_statistic, None],\n",
    "        'p_value': [p_value, None],\n",
    "        'Lower_CI': [confidence_interval[0], None],\n",
    "        'Upper_CI': [confidence_interval[1], None]\n",
    "    })\n",
    "\n",
    "    if p_value < 0.05 and abs(z_statistic) > 1.96:\n",
    "        print(f\"We reject the null hypothesis and accept the alternative hypothesis.\\n\\n{alternative_hypothesis}\")\n",
    "    else:\n",
    "        print(f\"We fail to reject the null hypothesis.\\n\\n{null_hypothesis}\")\n",
    "    \n",
    "    return stats\n",
    "\n",
    "    "
   ]
  },
  {
   "cell_type": "code",
   "execution_count": 5,
   "metadata": {},
   "outputs": [
    {
     "name": "stdout",
     "output_type": "stream",
     "text": [
      "We reject the null hypothesis and accept the alternative hypothesis.\n",
      "\n",
      "There is a significant difference in the conversion rates of ad and psa group suggesting one performs better in converting the users\n"
     ]
    }
   ],
   "source": [
    "# Dividing the dataframe into ad and psa group\n",
    "ad_group = cleaned_df[cleaned_df['test_group'] == 'ad']\n",
    "psa_group = cleaned_df[cleaned_df['test_group'] == 'psa']\n",
    "# Calling te calculate_conversion_statistics function here with the ad and psa groups as argument\n",
    "conversion_stats = calculate_conversion_statistics(ad_group, psa_group)\n",
    "# Saving the conversion_stats as a csv into the local desktop\n",
    "conversion_stats.to_csv('C:/Users/91626/Desktop/conversion_statistics.csv', index=False)"
   ]
  }
 ],
 "metadata": {
  "kernelspec": {
   "display_name": "Python 3",
   "language": "python",
   "name": "python3"
  },
  "language_info": {
   "codemirror_mode": {
    "name": "ipython",
    "version": 3
   },
   "file_extension": ".py",
   "mimetype": "text/x-python",
   "name": "python",
   "nbconvert_exporter": "python",
   "pygments_lexer": "ipython3",
   "version": "3.11.5"
  }
 },
 "nbformat": 4,
 "nbformat_minor": 2
}
