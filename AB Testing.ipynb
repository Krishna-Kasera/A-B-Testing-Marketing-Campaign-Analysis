{
 "cells": [
  {
   "cell_type": "markdown",
   "metadata": {},
   "source": [
    "<div style=\"text-align: center;\"> \n",
    "  <h2><span style=\"color:#2C3E50;\"><b>A/B TESTING OF ADS VS PSAS</b></span></h2> \n",
    "</div>\n",
    "\n",
    "THIS NOTEBOOK CALCULATES THE **Z-STATISTIC FOR TWO PROPORTIONS**, **P-VALUE**, AND **CONFIDENCE INTERVALS** FOR COMPARING THE EFFECTIVENESS OF **ADVERTISEMENTS (ADS)** AND **PUBLIC SERVICE ANNOUNCEMENTS (PSAS)**.  \n",
    "\n",
    "DETAILED ANALYSIS AND VISUALIZATIONS ARE AVAILABLE IN THE ACCOMPANYING DASHBOARD: [**DASHBOARD**](https://app.powerbi.com/reportEmbed?reportId=ae681465-0b11-445b-8fc9-b5bb2fcb9a77&autoAuth=true&ctid=d8d6e7dc-2b15-43c5-81fd-2efc145c9d2c)  \n",
    "\n",
    "THE SCOPE OF THIS NOTEBOOK IS LIMITED TO STATISTICAL TESTING & COMPUTATIONS, INCLUDING:  \n",
    "\n",
    "- **Z-TEST FOR TWO PROPORTIONS**  \n",
    "- **P-VALUE**  \n",
    "- **CONFIDENCE INTERVALS**  \n",
    "- **CONVERSION RATES**  \n",
    "- **ADDITIONAL STATISTICAL CALCULATIONS**  \n",
    "\n",
    "---\n",
    "\n",
    "### **<span style=\"color:#1ABC9C;\">DATASET OVERVIEW</span>** \n",
    "\n",
    "- **USER ID**: UNIQUE IDENTIFIER FOR EACH USER  \n",
    "- **TEST GROUP**: GROUP TO WHICH THE USER WAS EXPOSED (AD OR PSA)  \n",
    "- **CONVERTED**: WHETHER THE USER CONVERTED OR NOT  \n",
    "- **MOST ADS DAY**: THE DAY OF THE WEEK ON WHICH THE USER WAS SHOWN THE MOST ADS  \n",
    "- **MOST ADS HOUR**: THE HOUR OF THE DAY DURING WHICH THE USER WAS SHOWN THE MOST ADS  \n",
    "- **TOTAL ADS**: THE TOTAL NUMBER OF IMPRESSIONS TO WHICH THE USER WAS EXPOSED  \n",
    "\n",
    "THE DATASET USED HERE IS PRECLEANED, SO WE WILL DIRECTLY START FROM STATISTICAL CALCULATIONS. THIS DATASET CAN BE DOWNLOADED FROM THE FOLLOWING LINK: [**DATASET**](https://www.kaggle.com/datasets/faviovaz/marketing-ab-testing)  \n",
    "___\n"
   ]
  },
  {
   "cell_type": "markdown",
   "metadata": {},
   "source": [
    "### **<span style=\"color:#1ABC9C;\">INITIALIZATION</span>** "
   ]
  },
  {
   "cell_type": "code",
   "execution_count": 1,
   "metadata": {},
   "outputs": [],
   "source": [
    "# Importing the necessary libraries\n",
    "import pandas as pd\n",
    "import numpy as np\n",
    "import sqlalchemy\n",
    "from statsmodels.stats.proportion import proportions_ztest, proportion_confint\n",
    "# Reading the table from MarketingCampaignDB from my sql server using sqlalchemy\n",
    "conn_str = (\n",
    "    r'DRIVER={SQL Server};'\n",
    "    r'SERVER=KRISHNA\\SQLEXPRESS;'\n",
    "    r'DATABASE=MarketingCampaignDB;'\n",
    "    r'Trusted_Connection=yes;'\n",
    ")\n",
    "conn = sqlalchemy.create_engine(f'mssql+pyodbc:///?odbc_connect={conn_str}').connect()\n",
    "query = 'SELECT * FROM dbo.marketing_AB'\n",
    "\n",
    "df = pd.read_sql(query, conn)"
   ]
  },
  {
   "cell_type": "markdown",
   "metadata": {},
   "source": [
    "### **<span style=\"color:#1ABC9C;\">RESAMPLING AND SPLITTING DATA INTO GROUPS</span>** "
   ]
  },
  {
   "cell_type": "code",
   "execution_count": 2,
   "metadata": {},
   "outputs": [
    {
     "name": "stdout",
     "output_type": "stream",
     "text": [
      "564577\n",
      "23524\n"
     ]
    }
   ],
   "source": [
    "# Splitting the df into ad group and psa group\n",
    "ad_group = df[df['test_group'] == 'ad']\n",
    "psa_group = df[df['test_group'] == 'psa']\n",
    "\n",
    "print(len(ad_group))\n",
    "print(len(psa_group))\n"
   ]
  },
  {
   "cell_type": "code",
   "execution_count": 3,
   "metadata": {},
   "outputs": [
    {
     "name": "stdout",
     "output_type": "stream",
     "text": [
      "Sampled ad group size: 23524\n"
     ]
    }
   ],
   "source": [
    "# Since the ad group is 24x of psa group creatinf and huge imbalance we are\n",
    "# Randomly sampling the ad group to match the size of the PSA group also reclaculating the n_ad \n",
    "n_psa = len(psa_group)\n",
    "ad_group = ad_group.sample(n=n_psa, random_state=42)\n",
    "n_ad = len(ad_group)\n",
    "# Verifing the size of the sampled ad group\n",
    "print(f\"Sampled ad group size: {len(ad_group)}\")\n"
   ]
  },
  {
   "cell_type": "code",
   "execution_count": 4,
   "metadata": {},
   "outputs": [],
   "source": [
    "# Joining both the groups into a single table to save it for future uses in power BI\n",
    "sampled_df = pd.concat([ad_group, psa_group], ignore_index=True)\n",
    "sampled_df.to_csv('sampled_data.csv', index=False)"
   ]
  },
  {
   "cell_type": "markdown",
   "metadata": {},
   "source": [
    "### **<span style=\"color:#1ABC9C;\">STATISTICAL ANALYSIS AND COMPUTATIONS</span>** "
   ]
  },
  {
   "cell_type": "code",
   "execution_count": 5,
   "metadata": {},
   "outputs": [
    {
     "name": "stdout",
     "output_type": "stream",
     "text": [
      "Number of conversions in ad group: 618\n",
      "Number of conversions in psa group: 420\n"
     ]
    }
   ],
   "source": [
    "# Counting the total conversion in each category since 'converted' column is a boolean using sum method \n",
    "converted_ad = ad_group['converted'].sum()\n",
    "converted_psa = psa_group['converted'].sum()\n",
    "print(f\"Number of conversions in ad group: {converted_ad}\")\n",
    "print(f\"Number of conversions in psa group: {converted_psa}\")\n"
   ]
  },
  {
   "cell_type": "code",
   "execution_count": 6,
   "metadata": {},
   "outputs": [
    {
     "name": "stdout",
     "output_type": "stream",
     "text": [
      "Conversion rate for ad group: 0.0263\n",
      "Conversion rate for psa group: 0.0179\n",
      "\n",
      "Z-statistic: 6.2146\n",
      "P-value: 0.0000\n"
     ]
    }
   ],
   "source": [
    "\n",
    "# Calculating the conversion rate by computing the mean of the 'converted' column.  \n",
    "# Since it contains boolean values, this provides the proportion of users who converted.\n",
    "conv_rate_ad = converted_ad / n_ad\n",
    "conv_rate_psa = converted_psa / n_psa\n",
    "print(f\"Conversion rate for ad group: {conv_rate_ad:.4f}\")\n",
    "print(f\"Conversion rate for psa group: {conv_rate_psa:.4f}\")\n",
    "\n",
    "# Checking whether the difference is statistically significant.\n",
    "# Using a two-proportion z-test since we’re comparing conversionS.\n",
    "# For this, we need the counts of successes (conversions) and total observations for each group.\n",
    "\n",
    "# If P-value is <0.05 we can easily conclude that the difference is not due to randomness or chance is statistically significant.\n",
    "count = np.array([converted_ad, converted_psa])\n",
    "nobs = np.array([n_ad, n_psa])\n",
    "z_stat, p_value = proportions_ztest(count, nobs, alternative='two-sided')\n",
    "print(f\"\\nZ-statistic: {z_stat:.4f}\")\n",
    "print(f\"P-value: {p_value:.4f}\")\n"
   ]
  },
  {
   "cell_type": "code",
   "execution_count": 7,
   "metadata": {},
   "outputs": [
    {
     "name": "stdout",
     "output_type": "stream",
     "text": [
      "95% CI for ad group: (0.024227186780399392, 0.028314897899076884)\n",
      "95% CI for psa group: (0.016161914715211324, 0.019546298173753137)\n"
     ]
    }
   ],
   "source": [
    "# Getting 95% confidence intervals for each group’s conversion rate.\n",
    "# This’ll show us the range where the true rates likely lie.\n",
    "ci_ad = proportion_confint(converted_ad, n_ad, alpha=0.05, method='normal')\n",
    "ci_psa = proportion_confint(converted_psa, n_psa, alpha=0.05, method='normal')\n",
    "print(f\"95% CI for ad group: {ci_ad}\")\n",
    "print(f\"95% CI for psa group: {ci_psa}\")\n"
   ]
  },
  {
   "cell_type": "code",
   "execution_count": 8,
   "metadata": {},
   "outputs": [
    {
     "name": "stdout",
     "output_type": "stream",
     "text": [
      "\n",
      "Median total ads for ad group: 13.00\n",
      "Median total ads for psa group: 12.00\n"
     ]
    }
   ],
   "source": [
    "# Checking whether users in both groups were exposed to a similar number of Ads.  \n",
    "# a large difference could introduce bias in the result.  \n",
    "median_total_ads_ad = ad_group['total_ads'].median()\n",
    "median_total_ads_psa = psa_group['total_ads'].median()\n",
    "print(f\"\\nMedian total ads for ad group: {median_total_ads_ad:.2f}\")\n",
    "print(f\"Median total ads for psa group: {median_total_ads_psa:.2f}\")\n"
   ]
  },
  {
   "cell_type": "markdown",
   "metadata": {},
   "source": [
    "### **<span style=\"color:#1ABC9C;\">SAVING ALL THE ABOVE CALCULATIONS FOR FURTHER USE</span>** "
   ]
  },
  {
   "cell_type": "code",
   "execution_count": 9,
   "metadata": {},
   "outputs": [],
   "source": [
    "# Creating a DataFrame with the desired structure, including confidence intervals\n",
    "powerbi_df = pd.DataFrame({\n",
    "    'Group': ['ad', 'psa'],\n",
    "    'Sample Size': [n_ad, n_psa],\n",
    "    'Conversions': [converted_ad, converted_psa],\n",
    "    'Conversion Rate': [conv_rate_ad, conv_rate_psa],\n",
    "    '95% CI Lower': [ci_ad[0], ci_psa[0]],\n",
    "    '95% CI Upper': [ci_ad[1], ci_psa[1]],\n",
    "    'Z-Statistic': [z_stat, None], \n",
    "    'P-Value': [p_value, None]    \n",
    "})\n",
    "\n",
    "# Saving the DataFrame to a CSV file for PowerBI\n",
    "powerbi_df.to_csv('campaign_statistical_metrics.csv', index=False)\n"
   ]
  },
  {
   "cell_type": "markdown",
   "metadata": {},
   "source": [
    "___"
   ]
  }
 ],
 "metadata": {
  "kernelspec": {
   "display_name": "Python 3",
   "language": "python",
   "name": "python3"
  },
  "language_info": {
   "codemirror_mode": {
    "name": "ipython",
    "version": 3
   },
   "file_extension": ".py",
   "mimetype": "text/x-python",
   "name": "python",
   "nbconvert_exporter": "python",
   "pygments_lexer": "ipython3",
   "version": "3.11.5"
  }
 },
 "nbformat": 4,
 "nbformat_minor": 2
}
